{
 "cells": [
  {
   "cell_type": "markdown",
   "metadata": {},
   "source": [
    "# CDC WONDER API\n",
    "The US CDC makes a set of health-related databases available at https://wonder.cdc.gov, as the CDC Wide-ranging ONline Data for Epidemiologic Research or CDC WONDER.\n",
    "\n",
    "Each database has an XML web service API endpoint, with some common elements described in the [documentation](https://wonder.cdc.gov/wonder/help/WONDER-API.html). But there are not data dictionaries available for the fields and codes of each database, nor a description of the XML format.\n",
    "\n",
    "Below is a python example of calling the API from Python for cancer incidence data (database D144).  Thanks to [alipphardt's IPython notebook](https://github.com/alipphardt/cdc-wonder-api) showing details for D76 for inspiration and additional documentation.\n",
    "\n",
    "Some precomputed data tables for the cancer incidence data are available at https://www.cdc.gov/cancer/uscs/dataviz/download_data.htm"
   ]
  },
  {
   "cell_type": "code",
   "execution_count": null,
   "metadata": {},
   "outputs": [],
   "source": [
    "from lxml import etree\n",
    "import pandas as pd\n",
    "import requests"
   ]
  },
  {
   "cell_type": "markdown",
   "metadata": {},
   "source": [
    "As described in the docs, the endpoint receives two POST parameters, `xmlrequest` and `accept_datause_restrictions`.\n",
    "The XML request is a simple key-value pair collection:\n",
    "```xml\n",
    "<request-parameters>\n",
    "    <parameter>\n",
    "        <name>...</name>\n",
    "        <value>...</value>\n",
    "    </parameter>\n",
    "    ...\n",
    "</request-parameters>\n",
    "```"
   ]
  },
  {
   "cell_type": "code",
   "execution_count": null,
   "metadata": {},
   "outputs": [],
   "source": [
    "def make_request_xml(request_params):\n",
    "    root = etree.Element('request-parameters')\n",
    "    for name, value in request_params.items():\n",
    "        param = etree.SubElement(root, 'parameter')\n",
    "        etree.SubElement(param, 'name').text = name\n",
    "        etree.SubElement(param, 'value').text = value\n",
    "    return etree.ElementTree(root)"
   ]
  },
  {
   "cell_type": "markdown",
   "metadata": {},
   "source": [
    "The keys, derived from looking at the WONDER web UI's API requests, are categorized by a few prefixes:\n",
    "* `B_`: dimensions (\"variables\") to group by.\n",
    "* `M_`: measures to show, disaggregated by each the grouping dimensions.\n",
    "* `F_`/`I_`: simple and advanced form parameters.\n",
    "* `O_`: other parameters.\n",
    "* `V_`: filters for each dimension.\n",
    "* unprefixed misc parameters"
   ]
  },
  {
   "cell_type": "code",
   "execution_count": null,
   "metadata": {},
   "outputs": [],
   "source": [
    "req = make_request_xml({\n",
    "    'B_1': 'D144.V10',\n",
    "    'B_2': 'D144.V1',\n",
    "    'B_3': 'D144.V2',\n",
    "    'B_4': '*None*',  # 'D144.V4',\n",
    "    'B_5': '*None*',  # 'D144.V6',\n",
    "    'F_D144.V11': '*All*',\n",
    "    'I_D144.V11': '*All* (The United States)',\n",
    "    'M_1': 'D144.M1',\n",
    "    'M_2': 'D144.M2',\n",
    "    'M_40': 'D144.M40',\n",
    "    'M_43': 'D144.M43',\n",
    "    'O_PR': 'false',\n",
    "    'O_V11_fmode': 'freg',\n",
    "    'O_cancer': 'D144.V10',\n",
    "    'O_javascript': 'on',\n",
    "    'O_location': 'D144.V2',\n",
    "    'O_precision': '3',\n",
    "    'O_rate_per': '100000',\n",
    "    'O_show_suppressed': 'true',\n",
    "    'O_show_totals': 'true',\n",
    "    'O_show_zeros': 'true',\n",
    "    'O_stdpop': '201',\n",
    "    'O_timeout': '900',\n",
    "    'O_title': '',\n",
    "    'V_D144.V10': '0',\n",
    "    'V_D144.V11': '',\n",
    "    'V_D144.V12': '*All*',\n",
    "    'V_D144.V1': '*All*',\n",
    "    'V_D144.V2': '*All*',\n",
    "    'V_D144.V3': '*All*',\n",
    "    'V_D144.V4': '*All*',\n",
    "    'V_D144.V5': '*All*',\n",
    "    'V_D144.V6': '*All*',\n",
    "    'V_D144.V7': '*All*',\n",
    "    'V_D144.V8': '*All*',\n",
    "    'V_D144.V9': '*All*',\n",
    "    'action-Send': 'Send',\n",
    "    'dataset_code': 'D144',\n",
    "    'dataset_id': 'D144',\n",
    "    'dataset_label': 'United States and Puerto Rico Cancer Statistics, 1999-2015 Incidence',\n",
    "    'dataset_vintage_latest': 'Cancer Incidence',\n",
    "    'finder-stage-D144.V11': 'codeset',\n",
    "    'saved_id': '',\n",
    "    'stage': 'request',\n",
    "    'accept_datause_restrictions': 'true',\n",
    "})"
   ]
  },
  {
   "cell_type": "code",
   "execution_count": null,
   "metadata": {},
   "outputs": [],
   "source": [
    "endpoint = 'https://wonder.cdc.gov/controller/datarequest/D144'\n",
    "r = requests.post(endpoint, data={\n",
    "    'request_xml': etree.tostring(req),\n",
    "    'accept_datause_restrictions': 'true'\n",
    "})"
   ]
  },
  {
   "cell_type": "code",
   "execution_count": null,
   "metadata": {},
   "outputs": [],
   "source": [
    "r.raise_for_status()"
   ]
  },
  {
   "cell_type": "markdown",
   "metadata": {},
   "source": [
    "The response is XML."
   ]
  },
  {
   "cell_type": "code",
   "execution_count": null,
   "metadata": {},
   "outputs": [],
   "source": [
    "resp = etree.ElementTree(etree.fromstring(r.text))"
   ]
  },
  {
   "cell_type": "code",
   "execution_count": null,
   "metadata": {},
   "outputs": [],
   "source": [
    "with open('D144.xml', 'wb') as f:\n",
    "    f.write(etree.tostring(resp, pretty_print=True))"
   ]
  },
  {
   "cell_type": "markdown",
   "metadata": {},
   "source": [
    "The response includes a dataset section which includes, among other things, the codes for the requested measures:"
   ]
  },
  {
   "cell_type": "code",
   "execution_count": null,
   "metadata": {},
   "outputs": [],
   "source": [
    "measures = {}\n",
    "for measure in resp.findall('/dataset/measure'):\n",
    "    measures[measure.attrib['code']] = measure.attrib['label']\n",
    "measures"
   ]
  },
  {
   "cell_type": "markdown",
   "metadata": {},
   "source": [
    "It also includes the codes and codelists for the dimensions (called \"variables\").  These also include grouping metadata, in this example Cancers (site), (geographic) Location, and Year and Demographics. In addition, dimensions which can provide values for `O_` fields indicate which fields (controls) they apply to."
   ]
  },
  {
   "cell_type": "code",
   "execution_count": null,
   "metadata": {},
   "outputs": [],
   "source": [
    "from collections import defaultdict\n",
    "controls = defaultdict(list)\n",
    "groups = {}\n",
    "dimensions = {}\n",
    "for variable in resp.findall('/dataset/variable'):\n",
    "    if 'groupby-heading' in variable.attrib:\n",
    "        heading = variable.attrib['groupby-heading']\n",
    "        if heading != 'endgroup':\n",
    "            groups[heading] = set()\n",
    "        else:\n",
    "            heading = None\n",
    "    else:\n",
    "        values = {}\n",
    "        for value in variable.findall('./value'):\n",
    "            values[value.attrib['code']] = value.attrib['label']\n",
    "        groups[heading].add(variable.attrib['code'])\n",
    "        dimensions[variable.attrib['code']] = {\n",
    "            'name': variable.attrib['label'],\n",
    "            'codelist': values\n",
    "        }\n",
    "        for control in variable.findall('other-param-control'):\n",
    "            controls[control.attrib['code']].append(control.attrib['value'])\n",
    "groups, controls, dimensions"
   ]
  },
  {
   "cell_type": "markdown",
   "metadata": {},
   "source": [
    "The dataset section includes some descriptive metadata, such as citation, description, related URLs, and caveats for using the data."
   ]
  },
  {
   "cell_type": "code",
   "execution_count": null,
   "metadata": {},
   "outputs": [],
   "source": [
    "citation = resp.find('/dataset/documentation/citation').text\n",
    "citation_url = resp.find('/dataset/documentation/citationURL').text\n",
    "desc = resp.find('/dataset/documentation/about').text\n",
    "data_url = resp.find('/dataset/documentation/dataurl').text\n",
    "caveats={}\n",
    "for caveat in resp.findall('/dataset/documentation/caveat'):\n",
    "    caveats[caveat.attrib['code']] = caveat.find('text').text"
   ]
  },
  {
   "cell_type": "markdown",
   "metadata": {},
   "source": [
    "The response data is a tabular structure, so we need to record the column identifiers in order."
   ]
  },
  {
   "cell_type": "code",
   "execution_count": null,
   "metadata": {},
   "outputs": [],
   "source": [
    "slice_variables = []\n",
    "slice_measures = []\n",
    "for variable in resp.findall('/response/request/byvariables/variable'):\n",
    "    slice_variables.append(variable.attrib['code'])\n",
    "for measure in resp.findall('/response/request/measure-selections/measure'):\n",
    "    slice_measures.append(measure.attrib['code'])\n",
    "\n",
    "columns_byname = {dimensions[dimension]['name']: dimension for dimension in slice_variables}\n",
    "columns_byname.update({measures[measure]: measure for measure in slice_measures})\n",
    "columns = list(columns_byname.keys())"
   ]
  },
  {
   "cell_type": "markdown",
   "metadata": {},
   "source": [
    "The table consists of `r` rows containing `c` cells, which may contain `l` (labels? additional data).  \n",
    "Numerical values are stored in the cell's `v` attribute, and textual values in its `l` label attribute.  \n",
    "Categorical data may include code `cd`, and (unknown) `cf` attributes.\n",
    "\n",
    "Per the caveats, the data may include `Missing` or `Suppressed` values, both of which I treat as null/NA below."
   ]
  },
  {
   "cell_type": "code",
   "execution_count": null,
   "metadata": {},
   "outputs": [],
   "source": [
    "data_table = []\n",
    "for row in resp.findall('/response/data-table/r'):\n",
    "    row_vals = []\n",
    "    for cell in row.findall('c'):\n",
    "        val = cell.attrib.get('l')\n",
    "        if val is None:\n",
    "            val = cell.attrib['v'].replace(',', '')\n",
    "            if val == 'Missing' or val == 'Suppressed':\n",
    "                val = None\n",
    "            else:\n",
    "                val = float(val)\n",
    "        row_vals.append(val)\n",
    "        # Check for row span\n",
    "        span = cell.attrib.get('r')\n",
    "        if span is not None:\n",
    "            row_vals.append([] * (int(span)-1))\n",
    "        # Check for combine labels\n",
    "        l = cell.find('l')\n",
    "        if l is not None:\n",
    "            row_vals.append(float(l.attrib.get('v')))\n",
    "    # The `l` child is missing on some rows; pad under-full rows with None.\n",
    "    while len(row_vals) < len(columns):\n",
    "        row_vals.append(None)\n",
    "    if len(row_vals) > len(columns):\n",
    "        raise RuntimeError(\"Too many columns\")\n",
    "    data_table.append(row_vals)\n",
    "slice_df = pd.DataFrame(data=data_table,\n",
    "             columns=columns)\n",
    "slice_df.to_csv('slice.csv')"
   ]
  },
  {
   "cell_type": "code",
   "execution_count": null,
   "metadata": {},
   "outputs": [],
   "source": [
    "slice_df"
   ]
  },
  {
   "cell_type": "markdown",
   "metadata": {},
   "source": [
    "For fun, let's transform the dataset to [DSPL 2](https://google.github.io/dspl/dspl2-spec.html). This isn't useful for much yet, but you can try out the tools linked to at https://google.github.io/dspl ."
   ]
  },
  {
   "cell_type": "code",
   "execution_count": null,
   "metadata": {},
   "outputs": [],
   "source": [
    "label_to_code = {}\n",
    "for dim in slice_variables:\n",
    "    label_to_code[dim] = {}\n",
    "    for code, label in dimensions[dim]['codelist'].items():\n",
    "        label_to_code[dim][label] = code"
   ]
  },
  {
   "cell_type": "code",
   "execution_count": null,
   "metadata": {},
   "outputs": [],
   "source": [
    "from pathlib import Path\n",
    "import csv\n",
    "import json\n",
    "\n",
    "try:\n",
    "    Path('dataset').mkdir()\n",
    "except:\n",
    "    pass\n",
    "\n",
    "dspl2 = {\n",
    "    '@type': 'StatisticalDataset',\n",
    "    'name': citation,\n",
    "    'url': citation_url,\n",
    "    'description': desc,\n",
    "    'license': 'https://wonder.cdc.gov/datause.html',\n",
    "    'distribution': {\n",
    "        '@type': 'DataDownload',\n",
    "        'url': data_url,\n",
    "    },\n",
    "    'dimension': [],\n",
    "    'measure': [],\n",
    "    'slice': [],\n",
    "}\n",
    "for code, label in measures.items():\n",
    "    dspl2['measure'].append({\n",
    "        '@type': 'StatisticalMeasure',\n",
    "        '@id': f'#{code}',\n",
    "        'name': label,\n",
    "    })\n",
    "for code, dimension in dimensions.items():\n",
    "    dspl2['dimension'].append({\n",
    "        '@type': 'CategoricalDimension',\n",
    "        '@id': f'#{code}',\n",
    "        'name': dimension['name'],\n",
    "        'codeList': f'{code}.csv'\n",
    "    })\n",
    "    df = pd.DataFrame(list(dimension['codelist'].items()), columns=['codeValue', 'name'])\n",
    "    df.to_csv(f'dataset/{code}.csv', index=False)\n",
    "dspl2['slice'].append({\n",
    "    '@type': 'DataSlice',\n",
    "    'dimension': [f'#{dimension}' for dimension in slice_variables],\n",
    "    'measure': [f'#{code}' for code in slice_measures],\n",
    "    'data': 'slice.csv'\n",
    "})\n",
    "with open('dataset/slice.csv', 'w') as f:\n",
    "    out = csv.writer(f)\n",
    "    out.writerow([columns_byname[col] for col in slice_df.columns])\n",
    "    for row in slice_df.itertuples(index=False):\n",
    "        coded_row = []\n",
    "        for dim,label in zip(slice_variables,row):\n",
    "            coded_row.append(label_to_code[dim][label])\n",
    "        coded_row.extend(row[len(slice_variables):])\n",
    "        out.writerow(coded_row)\n",
    "with open('dataset/cancer.json', 'w') as f:\n",
    "    json.dump(dspl2, f)"
   ]
  },
  {
   "cell_type": "markdown",
   "metadata": {},
   "source": [
    "Now let's do some simple visualization. Here, a small multiples chart showing the overall cancer rate by state, for each year from 2000 to 2015."
   ]
  },
  {
   "cell_type": "code",
   "execution_count": null,
   "metadata": {},
   "outputs": [],
   "source": [
    "import geopandas as gpd"
   ]
  },
  {
   "cell_type": "code",
   "execution_count": null,
   "metadata": {},
   "outputs": [],
   "source": [
    "us = gpd.read_file('https://eric.clst.org/assets/wiki/uploads/Stuff/gz_2010_us_040_00_5m.json')\n",
    "us = us.set_index('NAME')"
   ]
  },
  {
   "cell_type": "code",
   "execution_count": null,
   "metadata": {},
   "outputs": [],
   "source": [
    "total = slice_df.groupby(['States', 'Year'])['Count','Population'].sum()\n",
    "total['Rate'] = total['Count']/total['Population'] * 10000\n",
    "total = total.reset_index().set_index('States')\n",
    "total.index.name = 'NAME'"
   ]
  },
  {
   "cell_type": "code",
   "execution_count": null,
   "metadata": {},
   "outputs": [],
   "source": [
    "mappable = us.join(total)"
   ]
  },
  {
   "cell_type": "code",
   "execution_count": null,
   "metadata": {},
   "outputs": [],
   "source": [
    "import matplotlib.pyplot as plt\n",
    "fig, axes = plt.subplots(5,3, figsize=(25,25))\n",
    "for ax, year in zip(axes.ravel(), range(2000, 2016)):\n",
    "    mappable[mappable['Year'] == str(year)].drop(['Alaska', 'Hawaii']).plot(\n",
    "        column='Rate', cmap='Blues',\n",
    "        vmin=mappable['Rate'].min(),\n",
    "        vmax=mappable['Rate'].max(),\n",
    "        ax=ax,\n",
    "        legend=False)\n",
    "    ax.set_title(f\"{year}\")\n",
    "    ax.set_xticks([])\n",
    "    ax.set_yticks([])\n",
    "print(\"Cancer incidence rate by state\")"
   ]
  },
  {
   "cell_type": "code",
   "execution_count": null,
   "metadata": {},
   "outputs": [],
   "source": []
  }
 ],
 "metadata": {
  "language_info": {
   "name": "python",
   "pygments_lexer": "ipython3"
  }
 },
 "nbformat": 4,
 "nbformat_minor": 2
}
